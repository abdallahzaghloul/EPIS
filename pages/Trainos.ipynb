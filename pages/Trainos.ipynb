{
 "cells": [
  {
   "cell_type": "code",
   "execution_count": 67,
   "metadata": {},
   "outputs": [
    {
     "data": {
      "application/vnd.plotly.v1+json": {
       "config": {
        "plotlyServerURL": "https://plot.ly"
       },
       "data": [
        {
         "type": "histogram",
         "x": [
          "Fail",
          "Fail",
          "Fail",
          "Fail",
          "Fail",
          "Fail",
          "Fail",
          "Fail",
          "Fail",
          "Fail",
          "Fail",
          "Fail",
          "Fail",
          "Fail",
          "Fail",
          "Fail",
          "Fail",
          "Fail",
          "Fail",
          "Fail",
          "Fail",
          "Fail",
          "Fail",
          "Fail",
          "Fail",
          "Fail",
          "Fail",
          "Fail",
          "Fail",
          "Fail",
          "Fail",
          "Fail",
          "Fail",
          "Fail",
          "Fail",
          "Fail",
          "Fail",
          "Fail",
          "Fail",
          "Fail",
          "Fail",
          "Fail",
          "Pass",
          "Pass",
          "Pass",
          "Pass",
          "Pass",
          "Pass",
          "Pass",
          "Pass",
          "Pass",
          "Pass",
          "Pass",
          "Pass",
          "Pass",
          "Pass",
          "Pass",
          "Pass",
          "Pass",
          "Pass",
          "Pass",
          "Pass",
          "Pass",
          "Pass",
          "Pass",
          "Pass",
          "Pass",
          "Pass",
          "Pass",
          "Pass",
          "Pass",
          "Pass",
          "Pass",
          "Pass",
          "Pass",
          "Pass",
          "Pass",
          "Pass",
          "Pass",
          "Pass",
          "Pass",
          "Pass",
          "Pass",
          "Pass",
          "Pass",
          "Pass",
          "Pass",
          "Pass",
          "Pass",
          "Pass",
          "Pass",
          "Pass",
          "Pass",
          "Pass",
          "Pass",
          "Pass",
          "Pass",
          "Pass",
          "Pass",
          "Pass",
          "Pass",
          "Pass",
          "Pass",
          "Pass",
          "Pass",
          "Pass",
          "Pass",
          "Pass",
          "Pass",
          "Pass",
          "Pass",
          "Pass",
          "Pass",
          "Pass",
          "Pass",
          "Pass",
          "Pass",
          "Pass",
          "Pass",
          "Pass",
          "Pass",
          "Pass",
          "Pass",
          "Pass",
          "Pass",
          "Pass",
          "Pass",
          "Pass",
          "Pass",
          "Pass",
          "Pass",
          "Pass",
          "Pass",
          "Pass",
          "Pass",
          "Pass",
          "Pass",
          "Pass",
          "Pass",
          "Pass",
          "Pass",
          "Pass",
          "Pass",
          "Pass",
          "Pass",
          "Pass",
          "Pass",
          "Pass",
          "Pass",
          "Pass",
          "Pass",
          "Pass",
          "Pass",
          "Pass",
          "Pass",
          "Pass",
          "Pass",
          "Pass",
          "Pass",
          "Pass",
          "Pass",
          "Pass",
          "Pass",
          "Pass",
          "Pass",
          "Pass",
          "Pass",
          "Pass",
          "Pass",
          "Pass",
          "Pass",
          "Pass",
          "Pass"
         ],
         "xaxis": "x",
         "yaxis": "y"
        },
        {
         "type": "histogram",
         "x": [
          "MAST",
          "MAST",
          "MAST",
          "DOG_HOUSE",
          "DOG_HOUSE",
          "TRAVELING_BLOCK",
          "TRAVELING_BLOCK",
          "RIG_FLOOR",
          "RIG_FLOOR",
          "MONKEY_BOARD",
          "MAST",
          "CARRIER",
          "CARRIER",
          "CARRIER",
          "CARRIER",
          "MUD_SYSTEM",
          "CARRIER",
          "MUD_SYSTEM",
          "MUD_SYSTEM",
          "MUD_SYSTEM",
          "CARRIER",
          "FLY_CAMP",
          "FLY_CAMP",
          "MUD_SYSTEM",
          "MUD_SYSTEM",
          "MUD_SYSTEM",
          "MUD_SYSTEM",
          "MUD_SYSTEM",
          "MUD_SYSTEM",
          "FLY_CAMP",
          "CARRIER",
          "CARRIER",
          "LIGHT_TOWER",
          "SUB-STRUCTURE",
          "SUB-STRUCTURE",
          "ENGINE_ROOM",
          "MUD_SYSTEM",
          "COMMY",
          "TANKS",
          "MUD_SYSTEM",
          "FLY_CAMP",
          "FLY_CAMP"
         ],
         "xaxis": "x2",
         "yaxis": "y2"
        },
        {
         "type": "histogram",
         "x": [
          "CROWN_BLOCK",
          "CROWN_BLOCK",
          "CROWN_BLOCK",
          "CROWN_BLOCK",
          "CROWN_BLOCK",
          "CROWN_BLOCK",
          "CROWN_BLOCK",
          "CROWN_BLOCK",
          "CROWN_BLOCK",
          "CROWN_BLOCK",
          "CROWN_BLOCK",
          "CROWN_BLOCK",
          "CROWN_BLOCK",
          "MAST_PART_1",
          "MAST_PART_1",
          "MAST_PART_1",
          "MAST_PART_1",
          "MAST_PART_1",
          "MAST_PART_1",
          "MAST_PART_1",
          "MAST_PART_1",
          "MAST_PART_1",
          "MAST_PART_1",
          "MAST_PART_1",
          "MAST_PART_1",
          "MAST_PART_1",
          "MAST_PART_1",
          "MAST_PART_1",
          "MAST_PART_1",
          "MAST_PART_1",
          "MAST_PART_1",
          "MAST_PART_1",
          "MAST_PART_1",
          "MAST_PART_1",
          "MAST_PART_1",
          "MAST_PART_1",
          "MAST_PART_1",
          "MAST_PART_1",
          "MAST_PART_1",
          "MAST_PART_1",
          "MAST_PART_1",
          "MAST_PART_1",
          "MAST_PART_1",
          "MAST_PART_1",
          "MAST_PART_1",
          "MAST_PART_1",
          "MAST_PART_1",
          "MAST_PART_2",
          "MAST_PART_2",
          "MAST_PART_2",
          "MAST_PART_2",
          "MAST_PART_2",
          "MAST_PART_2",
          "MAST_PART_2",
          "MAST_PART_2",
          "MAST_PART_2",
          "MAST_PART_2",
          "MAST_PART_2",
          "MAST_PART_2",
          "MAST_PART_2",
          "MAST_PART_2",
          "MAST_PART_2",
          "DRAW-_WORKS_CARRIER",
          "DRAW-_WORKS_CARRIER",
          "DRAW-_WORKS_CARRIER",
          "DRAW-_WORKS_CARRIER",
          "DRAW-_WORKS_CARRIER",
          "DRAW-_WORKS_CARRIER",
          "MUD_SYSTEM",
          "MUD_SYSTEM",
          "MUD_SYSTEM",
          "MUD_SYSTEM",
          "MUD_SYSTEM",
          "MUD_SYSTEM",
          "MUD_SYSTEM",
          "MUD_SYSTEM",
          "MUD_SYSTEM",
          "MUD_SYSTEM",
          "MUD_SYSTEM",
          "MUD_SYSTEM",
          "ACCUMULATOR",
          "ACCUMULATOR",
          "ACCUMULATOR",
          "ACCUMULATOR",
          "ACCUMULATOR",
          "ACCUMULATOR",
          "ACCUMULATOR",
          "ACCUMULATOR",
          "DIESEL_TANK",
          "DIESEL_TANK",
          "DIESEL_TANK",
          "DIESEL_TANK",
          "DIESEL_TANK",
          "DIESEL_TANK",
          "DIESEL_TANK",
          "WATER_TANK",
          "WATER_TANK",
          "WATER_TANK",
          "WATER_TANK",
          "WATER_TANK",
          "WATER_TANK",
          "WATER_TANK",
          "RIG_CAMP",
          "RIG_CAMP",
          "RIG_CAMP",
          "RIG_CAMP",
          "RIG_CAMP",
          "RIG_CAMP",
          "RIG_CAMP",
          "RIG_CAMP",
          "RIG_CAMP",
          "RIG_CAMP",
          "RIG_CAMP",
          "RIG_CAMP",
          "RIG_CAMP",
          "RIG_CAMP",
          "RIG_CAMP",
          "RIG_CAMP",
          "RIG_CAMP",
          "RIG_CAMP",
          "RIG_CAMP",
          "RIG_CAMP",
          "RIG_CAMP",
          "RIG_CAMP",
          "RIG_CAMP",
          "RIG_CAMP",
          "RIG_CAMP",
          "RIG_CAMP",
          "RIG_CAMP",
          "RIG_CAMP",
          "RIG_CAMP"
         ],
         "xaxis": "x3",
         "yaxis": "y3"
        }
       ],
       "layout": {
        "annotations": [
         {
          "font": {
           "size": 16
          },
          "showarrow": false,
          "text": "Passed Points Vs. Fail Points",
          "x": 0.14444444444444446,
          "xanchor": "center",
          "xref": "paper",
          "y": 1,
          "yanchor": "bottom",
          "yref": "paper"
         },
         {
          "font": {
           "size": 16
          },
          "showarrow": false,
          "text": "Fail Points Location Distribution",
          "x": 0.5,
          "xanchor": "center",
          "xref": "paper",
          "y": 1,
          "yanchor": "bottom",
          "yref": "paper"
         },
         {
          "font": {
           "size": 16
          },
          "showarrow": false,
          "text": "Pass Points Location Distribution",
          "x": 0.8555555555555556,
          "xanchor": "center",
          "xref": "paper",
          "y": 1,
          "yanchor": "bottom",
          "yref": "paper"
         },
         {
          "arrowhead": 3,
          "showarrow": true,
          "text": "42(24.28%)",
          "x": "Fail"
         },
         {
          "arrowhead": 1,
          "showarrow": true,
          "text": "131(75.72%)",
          "x": "Pass"
         }
        ],
        "showlegend": false,
        "template": {
         "data": {
          "bar": [
           {
            "error_x": {
             "color": "#2a3f5f"
            },
            "error_y": {
             "color": "#2a3f5f"
            },
            "marker": {
             "line": {
              "color": "#E5ECF6",
              "width": 0.5
             },
             "pattern": {
              "fillmode": "overlay",
              "size": 10,
              "solidity": 0.2
             }
            },
            "type": "bar"
           }
          ],
          "barpolar": [
           {
            "marker": {
             "line": {
              "color": "#E5ECF6",
              "width": 0.5
             },
             "pattern": {
              "fillmode": "overlay",
              "size": 10,
              "solidity": 0.2
             }
            },
            "type": "barpolar"
           }
          ],
          "carpet": [
           {
            "aaxis": {
             "endlinecolor": "#2a3f5f",
             "gridcolor": "white",
             "linecolor": "white",
             "minorgridcolor": "white",
             "startlinecolor": "#2a3f5f"
            },
            "baxis": {
             "endlinecolor": "#2a3f5f",
             "gridcolor": "white",
             "linecolor": "white",
             "minorgridcolor": "white",
             "startlinecolor": "#2a3f5f"
            },
            "type": "carpet"
           }
          ],
          "choropleth": [
           {
            "colorbar": {
             "outlinewidth": 0,
             "ticks": ""
            },
            "type": "choropleth"
           }
          ],
          "contour": [
           {
            "colorbar": {
             "outlinewidth": 0,
             "ticks": ""
            },
            "colorscale": [
             [
              0,
              "#0d0887"
             ],
             [
              0.1111111111111111,
              "#46039f"
             ],
             [
              0.2222222222222222,
              "#7201a8"
             ],
             [
              0.3333333333333333,
              "#9c179e"
             ],
             [
              0.4444444444444444,
              "#bd3786"
             ],
             [
              0.5555555555555556,
              "#d8576b"
             ],
             [
              0.6666666666666666,
              "#ed7953"
             ],
             [
              0.7777777777777778,
              "#fb9f3a"
             ],
             [
              0.8888888888888888,
              "#fdca26"
             ],
             [
              1,
              "#f0f921"
             ]
            ],
            "type": "contour"
           }
          ],
          "contourcarpet": [
           {
            "colorbar": {
             "outlinewidth": 0,
             "ticks": ""
            },
            "type": "contourcarpet"
           }
          ],
          "heatmap": [
           {
            "colorbar": {
             "outlinewidth": 0,
             "ticks": ""
            },
            "colorscale": [
             [
              0,
              "#0d0887"
             ],
             [
              0.1111111111111111,
              "#46039f"
             ],
             [
              0.2222222222222222,
              "#7201a8"
             ],
             [
              0.3333333333333333,
              "#9c179e"
             ],
             [
              0.4444444444444444,
              "#bd3786"
             ],
             [
              0.5555555555555556,
              "#d8576b"
             ],
             [
              0.6666666666666666,
              "#ed7953"
             ],
             [
              0.7777777777777778,
              "#fb9f3a"
             ],
             [
              0.8888888888888888,
              "#fdca26"
             ],
             [
              1,
              "#f0f921"
             ]
            ],
            "type": "heatmap"
           }
          ],
          "heatmapgl": [
           {
            "colorbar": {
             "outlinewidth": 0,
             "ticks": ""
            },
            "colorscale": [
             [
              0,
              "#0d0887"
             ],
             [
              0.1111111111111111,
              "#46039f"
             ],
             [
              0.2222222222222222,
              "#7201a8"
             ],
             [
              0.3333333333333333,
              "#9c179e"
             ],
             [
              0.4444444444444444,
              "#bd3786"
             ],
             [
              0.5555555555555556,
              "#d8576b"
             ],
             [
              0.6666666666666666,
              "#ed7953"
             ],
             [
              0.7777777777777778,
              "#fb9f3a"
             ],
             [
              0.8888888888888888,
              "#fdca26"
             ],
             [
              1,
              "#f0f921"
             ]
            ],
            "type": "heatmapgl"
           }
          ],
          "histogram": [
           {
            "marker": {
             "pattern": {
              "fillmode": "overlay",
              "size": 10,
              "solidity": 0.2
             }
            },
            "type": "histogram"
           }
          ],
          "histogram2d": [
           {
            "colorbar": {
             "outlinewidth": 0,
             "ticks": ""
            },
            "colorscale": [
             [
              0,
              "#0d0887"
             ],
             [
              0.1111111111111111,
              "#46039f"
             ],
             [
              0.2222222222222222,
              "#7201a8"
             ],
             [
              0.3333333333333333,
              "#9c179e"
             ],
             [
              0.4444444444444444,
              "#bd3786"
             ],
             [
              0.5555555555555556,
              "#d8576b"
             ],
             [
              0.6666666666666666,
              "#ed7953"
             ],
             [
              0.7777777777777778,
              "#fb9f3a"
             ],
             [
              0.8888888888888888,
              "#fdca26"
             ],
             [
              1,
              "#f0f921"
             ]
            ],
            "type": "histogram2d"
           }
          ],
          "histogram2dcontour": [
           {
            "colorbar": {
             "outlinewidth": 0,
             "ticks": ""
            },
            "colorscale": [
             [
              0,
              "#0d0887"
             ],
             [
              0.1111111111111111,
              "#46039f"
             ],
             [
              0.2222222222222222,
              "#7201a8"
             ],
             [
              0.3333333333333333,
              "#9c179e"
             ],
             [
              0.4444444444444444,
              "#bd3786"
             ],
             [
              0.5555555555555556,
              "#d8576b"
             ],
             [
              0.6666666666666666,
              "#ed7953"
             ],
             [
              0.7777777777777778,
              "#fb9f3a"
             ],
             [
              0.8888888888888888,
              "#fdca26"
             ],
             [
              1,
              "#f0f921"
             ]
            ],
            "type": "histogram2dcontour"
           }
          ],
          "mesh3d": [
           {
            "colorbar": {
             "outlinewidth": 0,
             "ticks": ""
            },
            "type": "mesh3d"
           }
          ],
          "parcoords": [
           {
            "line": {
             "colorbar": {
              "outlinewidth": 0,
              "ticks": ""
             }
            },
            "type": "parcoords"
           }
          ],
          "pie": [
           {
            "automargin": true,
            "type": "pie"
           }
          ],
          "scatter": [
           {
            "fillpattern": {
             "fillmode": "overlay",
             "size": 10,
             "solidity": 0.2
            },
            "type": "scatter"
           }
          ],
          "scatter3d": [
           {
            "line": {
             "colorbar": {
              "outlinewidth": 0,
              "ticks": ""
             }
            },
            "marker": {
             "colorbar": {
              "outlinewidth": 0,
              "ticks": ""
             }
            },
            "type": "scatter3d"
           }
          ],
          "scattercarpet": [
           {
            "marker": {
             "colorbar": {
              "outlinewidth": 0,
              "ticks": ""
             }
            },
            "type": "scattercarpet"
           }
          ],
          "scattergeo": [
           {
            "marker": {
             "colorbar": {
              "outlinewidth": 0,
              "ticks": ""
             }
            },
            "type": "scattergeo"
           }
          ],
          "scattergl": [
           {
            "marker": {
             "colorbar": {
              "outlinewidth": 0,
              "ticks": ""
             }
            },
            "type": "scattergl"
           }
          ],
          "scattermapbox": [
           {
            "marker": {
             "colorbar": {
              "outlinewidth": 0,
              "ticks": ""
             }
            },
            "type": "scattermapbox"
           }
          ],
          "scatterpolar": [
           {
            "marker": {
             "colorbar": {
              "outlinewidth": 0,
              "ticks": ""
             }
            },
            "type": "scatterpolar"
           }
          ],
          "scatterpolargl": [
           {
            "marker": {
             "colorbar": {
              "outlinewidth": 0,
              "ticks": ""
             }
            },
            "type": "scatterpolargl"
           }
          ],
          "scatterternary": [
           {
            "marker": {
             "colorbar": {
              "outlinewidth": 0,
              "ticks": ""
             }
            },
            "type": "scatterternary"
           }
          ],
          "surface": [
           {
            "colorbar": {
             "outlinewidth": 0,
             "ticks": ""
            },
            "colorscale": [
             [
              0,
              "#0d0887"
             ],
             [
              0.1111111111111111,
              "#46039f"
             ],
             [
              0.2222222222222222,
              "#7201a8"
             ],
             [
              0.3333333333333333,
              "#9c179e"
             ],
             [
              0.4444444444444444,
              "#bd3786"
             ],
             [
              0.5555555555555556,
              "#d8576b"
             ],
             [
              0.6666666666666666,
              "#ed7953"
             ],
             [
              0.7777777777777778,
              "#fb9f3a"
             ],
             [
              0.8888888888888888,
              "#fdca26"
             ],
             [
              1,
              "#f0f921"
             ]
            ],
            "type": "surface"
           }
          ],
          "table": [
           {
            "cells": {
             "fill": {
              "color": "#EBF0F8"
             },
             "line": {
              "color": "white"
             }
            },
            "header": {
             "fill": {
              "color": "#C8D4E3"
             },
             "line": {
              "color": "white"
             }
            },
            "type": "table"
           }
          ]
         },
         "layout": {
          "annotationdefaults": {
           "arrowcolor": "#2a3f5f",
           "arrowhead": 0,
           "arrowwidth": 1
          },
          "autotypenumbers": "strict",
          "coloraxis": {
           "colorbar": {
            "outlinewidth": 0,
            "ticks": ""
           }
          },
          "colorscale": {
           "diverging": [
            [
             0,
             "#8e0152"
            ],
            [
             0.1,
             "#c51b7d"
            ],
            [
             0.2,
             "#de77ae"
            ],
            [
             0.3,
             "#f1b6da"
            ],
            [
             0.4,
             "#fde0ef"
            ],
            [
             0.5,
             "#f7f7f7"
            ],
            [
             0.6,
             "#e6f5d0"
            ],
            [
             0.7,
             "#b8e186"
            ],
            [
             0.8,
             "#7fbc41"
            ],
            [
             0.9,
             "#4d9221"
            ],
            [
             1,
             "#276419"
            ]
           ],
           "sequential": [
            [
             0,
             "#0d0887"
            ],
            [
             0.1111111111111111,
             "#46039f"
            ],
            [
             0.2222222222222222,
             "#7201a8"
            ],
            [
             0.3333333333333333,
             "#9c179e"
            ],
            [
             0.4444444444444444,
             "#bd3786"
            ],
            [
             0.5555555555555556,
             "#d8576b"
            ],
            [
             0.6666666666666666,
             "#ed7953"
            ],
            [
             0.7777777777777778,
             "#fb9f3a"
            ],
            [
             0.8888888888888888,
             "#fdca26"
            ],
            [
             1,
             "#f0f921"
            ]
           ],
           "sequentialminus": [
            [
             0,
             "#0d0887"
            ],
            [
             0.1111111111111111,
             "#46039f"
            ],
            [
             0.2222222222222222,
             "#7201a8"
            ],
            [
             0.3333333333333333,
             "#9c179e"
            ],
            [
             0.4444444444444444,
             "#bd3786"
            ],
            [
             0.5555555555555556,
             "#d8576b"
            ],
            [
             0.6666666666666666,
             "#ed7953"
            ],
            [
             0.7777777777777778,
             "#fb9f3a"
            ],
            [
             0.8888888888888888,
             "#fdca26"
            ],
            [
             1,
             "#f0f921"
            ]
           ]
          },
          "colorway": [
           "#636efa",
           "#EF553B",
           "#00cc96",
           "#ab63fa",
           "#FFA15A",
           "#19d3f3",
           "#FF6692",
           "#B6E880",
           "#FF97FF",
           "#FECB52"
          ],
          "font": {
           "color": "#2a3f5f"
          },
          "geo": {
           "bgcolor": "white",
           "lakecolor": "white",
           "landcolor": "#E5ECF6",
           "showlakes": true,
           "showland": true,
           "subunitcolor": "white"
          },
          "hoverlabel": {
           "align": "left"
          },
          "hovermode": "closest",
          "mapbox": {
           "style": "light"
          },
          "paper_bgcolor": "white",
          "plot_bgcolor": "#E5ECF6",
          "polar": {
           "angularaxis": {
            "gridcolor": "white",
            "linecolor": "white",
            "ticks": ""
           },
           "bgcolor": "#E5ECF6",
           "radialaxis": {
            "gridcolor": "white",
            "linecolor": "white",
            "ticks": ""
           }
          },
          "scene": {
           "xaxis": {
            "backgroundcolor": "#E5ECF6",
            "gridcolor": "white",
            "gridwidth": 2,
            "linecolor": "white",
            "showbackground": true,
            "ticks": "",
            "zerolinecolor": "white"
           },
           "yaxis": {
            "backgroundcolor": "#E5ECF6",
            "gridcolor": "white",
            "gridwidth": 2,
            "linecolor": "white",
            "showbackground": true,
            "ticks": "",
            "zerolinecolor": "white"
           },
           "zaxis": {
            "backgroundcolor": "#E5ECF6",
            "gridcolor": "white",
            "gridwidth": 2,
            "linecolor": "white",
            "showbackground": true,
            "ticks": "",
            "zerolinecolor": "white"
           }
          },
          "shapedefaults": {
           "line": {
            "color": "#2a3f5f"
           }
          },
          "ternary": {
           "aaxis": {
            "gridcolor": "white",
            "linecolor": "white",
            "ticks": ""
           },
           "baxis": {
            "gridcolor": "white",
            "linecolor": "white",
            "ticks": ""
           },
           "bgcolor": "#E5ECF6",
           "caxis": {
            "gridcolor": "white",
            "linecolor": "white",
            "ticks": ""
           }
          },
          "title": {
           "x": 0.05
          },
          "xaxis": {
           "automargin": true,
           "gridcolor": "white",
           "linecolor": "white",
           "ticks": "",
           "title": {
            "standoff": 15
           },
           "zerolinecolor": "white",
           "zerolinewidth": 2
          },
          "yaxis": {
           "automargin": true,
           "gridcolor": "white",
           "linecolor": "white",
           "ticks": "",
           "title": {
            "standoff": 15
           },
           "zerolinecolor": "white",
           "zerolinewidth": 2
          }
         }
        },
        "title": {
         "text": "EDC-87 Drops Analysis"
        },
        "xaxis": {
         "anchor": "y",
         "domain": [
          0,
          0.2888888888888889
         ]
        },
        "xaxis2": {
         "anchor": "y2",
         "domain": [
          0.35555555555555557,
          0.6444444444444445
         ]
        },
        "xaxis3": {
         "anchor": "y3",
         "domain": [
          0.7111111111111111,
          1
         ]
        },
        "yaxis": {
         "anchor": "x",
         "domain": [
          0,
          1
         ]
        },
        "yaxis2": {
         "anchor": "x2",
         "domain": [
          0,
          1
         ]
        },
        "yaxis3": {
         "anchor": "x3",
         "domain": [
          0,
          1
         ]
        }
       }
      }
     },
     "metadata": {},
     "output_type": "display_data"
    }
   ],
   "source": [
    "import numpy as np #1\n",
    "import pandas as pd #2\n",
    "import plotly.graph_objects as go  #6\n",
    "import plotly.express as px  #7\n",
    "from plotly.subplots import make_subplots  #8\n",
    "import plotly.figure_factory as ff #21\n",
    "from PIL import Image\n",
    "import streamlit as st\n",
    "\n",
    "pd.set_option('mode.chained_assignment',None)\n",
    "sns.set(rc={'figure.figsize':(12,12)}, font_scale = 1.3)\n",
    "\n",
    "df = pd.read_excel(\"Book1.xlsx\")\n",
    "df.columns  = [i.replace(' ','_') for i in df.columns]\n",
    "df.columns  = [i.upper() for i in df.columns]\n",
    "for i in ['DESCRIPTION','LOCATION']:\n",
    "    df[i]= df[i].str.upper().str.replace(' ', '_')\n",
    "Fail_Pass = {0:'Pass',1:'Fail'}\n",
    "df['FAIL/PASS'] = df['FAIL/PASS'].map(Fail_Pass)\n",
    "\n",
    "Fail=df[df['FAIL/PASS']=='Fail'].value_counts().sum() \n",
    "Fail_= round(((df[df['FAIL/PASS']=='Fail'].value_counts().sum() / (df['FAIL/PASS'].value_counts().sum()))*100),2)\n",
    "\n",
    "Pass=df[df['FAIL/PASS']=='Pass'].value_counts().sum() \n",
    "Pass_= round(((df[df['FAIL/PASS']=='Pass'].value_counts().sum() / (df['FAIL/PASS'].value_counts().sum()))*100),2)\n",
    "\n",
    "fig1 = make_subplots(rows=1, cols=2, subplot_titles=(\"Passed Points Vs. Fail Points\",\"Fail Points Location Distribution\",\"Pass Points Location Distribution\"))\n",
    " \n",
    "fig1.append_trace(go.Histogram(x=df['FAIL/PASS']), row=1, col=1)\n",
    "\n",
    "fig1.append_trace(go.Histogram(x=df[df['FAIL/PASS']==\"Pass\"]['LOCATION']), row=1, col=2)\n",
    "\n",
    "fig1.update_layout(title_text='EDC-87 Drops Analysis', showlegend=False)\n",
    "\n",
    "#st.plotly_chart(fig_1, use_container_width=True)\n",
    "\n",
    "\n",
    "fig1.show()\n",
    "\n",
    "fig2 = px.histogram(df, x= 'FAIL/PASS') \n",
    "fig2.add_annotation(x='Fail', text=f\"{Fail}({Fail_}%)\", showarrow=True, arrowhead=1)\n",
    "fig2.add_annotation(x='Pass', text=f\"{Pass}({Pass_}%)\", showarrow=True, arrowhead=1)\n",
    "fig2.show()\n",
    "\n"
   ]
  }
 ],
 "metadata": {
  "kernelspec": {
   "display_name": "Python 3.7.6 ('base')",
   "language": "python",
   "name": "python3"
  },
  "language_info": {
   "codemirror_mode": {
    "name": "ipython",
    "version": 3
   },
   "file_extension": ".py",
   "mimetype": "text/x-python",
   "name": "python",
   "nbconvert_exporter": "python",
   "pygments_lexer": "ipython3",
   "version": "3.7.6"
  },
  "orig_nbformat": 4,
  "vscode": {
   "interpreter": {
    "hash": "b302cdd1e032ee910f5c889c3360c28564c92ad4f326fc3102e39fbe47faee66"
   }
  }
 },
 "nbformat": 4,
 "nbformat_minor": 2
}
